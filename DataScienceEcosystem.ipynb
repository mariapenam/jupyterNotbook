{
 "cells": [
  {
   "cell_type": "markdown",
   "id": "937999fe-097b-4f86-a597-d9ba94d17406",
   "metadata": {},
   "source": [
    "# Data Science Tools and Ecosystem"
   ]
  },
  {
   "cell_type": "markdown",
   "id": "f64e30ca-eb07-48fc-a6a4-c0cbefa28997",
   "metadata": {},
   "source": [
    "### In this notebook, Data Science Tools and Ecosystem are summarized."
   ]
  },
  {
   "cell_type": "markdown",
   "id": "657e8ff8-d7eb-4780-9df2-f6384c75a154",
   "metadata": {},
   "source": [
    "**Objectives**"
   ]
  },
  {
   "cell_type": "markdown",
   "id": "5362c8e7-71a2-4d85-886f-5bda9be6d708",
   "metadata": {},
   "source": [
    "- List popular languages for Data Science\n",
    "- List the commonly used libraries used in Data Scientists\n",
    "- List the Data Science Tools\n",
    "- List different examples of arithmetic expressions in Python"
   ]
  },
  {
   "cell_type": "markdown",
   "id": "5f3a68ed-6316-4443-b461-06c87f5a5fd3",
   "metadata": {},
   "source": [
    "#### Some of the popular languages that Data Scientists use are: \n",
    "- Python\n",
    "- R\n",
    "- SQL\n",
    "- Julia\n",
    "- Scala\n",
    "- JavaScript\n",
    "- C++\n",
    "- C\n",
    "- Java"
   ]
  },
  {
   "cell_type": "markdown",
   "id": "8903a1a7-59ba-4b36-a2a4-265b05ee1c7b",
   "metadata": {},
   "source": [
    "#### Some of the commonly used libraries used by Data Scientists include:\n",
    "- NumPy\n",
    "- Pandas\n",
    "- PyTorch\n",
    "- SciPy\n",
    "- TensorFlow\n",
    "- Keras\n",
    "- Matplotlib"
   ]
  },
  {
   "cell_type": "markdown",
   "id": "af092813-e0ed-4cdc-8eb7-be3d6fb2b6fd",
   "metadata": {},
   "source": [
    "| Data Science Tools | \n",
    "|:--------:|\n",
    "|  RStudio  | \n",
    "|  Apache Spark   |\n",
    "|  Apache Hadoop  |\n",
    "|Jupyter Notebooks|\n",
    "|Anaconda|"
   ]
  },
  {
   "cell_type": "markdown",
   "id": "74265a3b-d7c8-4bfa-b37f-2bd2f0529ae0",
   "metadata": {},
   "source": [
    "### Below are a few examples of evaluating arithmetic expressions in Python"
   ]
  },
  {
   "cell_type": "code",
   "execution_count": null,
   "id": "5e62241e-4de4-47ed-936c-35aa8b569cc6",
   "metadata": {},
   "outputs": [],
   "source": [
    "5 + 2\n",
    "#Result 7"
   ]
  },
  {
   "cell_type": "code",
   "execution_count": null,
   "id": "21dedd0c-f1b0-4625-ac05-ab302e943652",
   "metadata": {},
   "outputs": [],
   "source": [
    "5 * 2\n",
    "#result 10"
   ]
  },
  {
   "cell_type": "code",
   "execution_count": 9,
   "id": "a996b07c-dbab-4e80-b883-aa6a0d3fc2d4",
   "metadata": {},
   "outputs": [
    {
     "data": {
      "text/plain": [
       "3.0"
      ]
     },
     "execution_count": 9,
     "metadata": {},
     "output_type": "execute_result"
    }
   ],
   "source": [
    "6 / 2\n",
    "#result 3"
   ]
  },
  {
   "cell_type": "code",
   "execution_count": null,
   "id": "738173b5-5600-424b-9507-8043e8c2f9a1",
   "metadata": {},
   "outputs": [],
   "source": [
    "3 > 6\n",
    "#Result False"
   ]
  },
  {
   "cell_type": "markdown",
   "id": "c2ec56ca-ebf3-4288-af09-87e8f5a2b6d9",
   "metadata": {},
   "source": [
    "This a simple arithmetic expression to mutiply then add integers"
   ]
  },
  {
   "cell_type": "code",
   "execution_count": 7,
   "id": "2828d9e2-8195-4e0f-a532-20abf65bdcb1",
   "metadata": {},
   "outputs": [
    {
     "data": {
      "text/plain": [
       "17"
      ]
     },
     "execution_count": 7,
     "metadata": {},
     "output_type": "execute_result"
    }
   ],
   "source": [
    "(3*4)+5\n",
    "#Result 17"
   ]
  },
  {
   "cell_type": "markdown",
   "id": "442ccba5-d3e3-4be3-84e5-303ff3a2b740",
   "metadata": {},
   "source": [
    "This will convert 200 minutes to hours by diving by 60"
   ]
  },
  {
   "cell_type": "code",
   "execution_count": 8,
   "id": "8da54439-ba9a-436a-beae-77c918142c1c",
   "metadata": {},
   "outputs": [
    {
     "data": {
      "text/plain": [
       "3.3333333333333335"
      ]
     },
     "execution_count": 8,
     "metadata": {},
     "output_type": "execute_result"
    }
   ],
   "source": [
    "200/60\n",
    "#Result 3.3333333333333335"
   ]
  },
  {
   "cell_type": "markdown",
   "id": "0d6c7ea7-0fca-4382-90c0-f4d2dbdee869",
   "metadata": {},
   "source": [
    "## Author\n",
    "María Teresa Peña"
   ]
  }
 ],
 "metadata": {
  "kernelspec": {
   "display_name": "Python 3 (ipykernel)",
   "language": "python",
   "name": "python3"
  },
  "language_info": {
   "codemirror_mode": {
    "name": "ipython",
    "version": 3
   },
   "file_extension": ".py",
   "mimetype": "text/x-python",
   "name": "python",
   "nbconvert_exporter": "python",
   "pygments_lexer": "ipython3",
   "version": "3.11.7"
  }
 },
 "nbformat": 4,
 "nbformat_minor": 5
}
